{
 "metadata": {
  "language_info": {
   "codemirror_mode": {
    "name": "ipython",
    "version": 3
   },
   "file_extension": ".py",
   "mimetype": "text/x-python",
   "name": "python",
   "nbconvert_exporter": "python",
   "pygments_lexer": "ipython3",
   "version": "3.8.5-final"
  },
  "orig_nbformat": 2,
  "kernelspec": {
   "name": "python3",
   "display_name": "Python 3",
   "language": "python"
  }
 },
 "nbformat": 4,
 "nbformat_minor": 2,
 "cells": [
  {
   "cell_type": "code",
   "execution_count": 1,
   "metadata": {},
   "outputs": [],
   "source": [
    "import pandas as pd"
   ]
  },
  {
   "cell_type": "code",
   "execution_count": 2,
   "metadata": {},
   "outputs": [],
   "source": [
    "# Load in mta 2018 pickle file\n",
    "mta_data = pd.read_pickle('../dump/mta_data')"
   ]
  },
  {
   "cell_type": "code",
   "execution_count": 3,
   "metadata": {},
   "outputs": [],
   "source": [
    "#  Fix EXITS column name\n",
    "mta_data.rename(columns={'EXITS                                                               ':'EXITS'}, inplace=True)"
   ]
  },
  {
   "cell_type": "code",
   "execution_count": 4,
   "metadata": {},
   "outputs": [],
   "source": [
    "# Create DateTime column\n",
    "mta_data['DATETIME'] = pd.to_datetime(mta_data.DATE + ' ' + mta_data.TIME)\n",
    "mta_data['DATE']= pd.to_datetime(mta_data['DATE'])"
   ]
  },
  {
   "cell_type": "code",
   "execution_count": 5,
   "metadata": {},
   "outputs": [],
   "source": [
    "# Convert Date object to Datetime\n",
    "mta_data['DATE']= pd.to_datetime(mta_data['DATE'])"
   ]
  },
  {
   "cell_type": "code",
   "execution_count": 6,
   "metadata": {},
   "outputs": [],
   "source": [
    "# Create Weekday from newly create DateTime column\n",
    "mta_data['WEEKDAY'] = mta_data['DATETIME'].dt.day_name()"
   ]
  },
  {
   "cell_type": "code",
   "execution_count": 7,
   "metadata": {},
   "outputs": [],
   "source": [
    "# Identify Daytime\n",
    "mta_data['DAYTYPE'] = mta_data['WEEKDAY'].apply(lambda x: 'WEEKEND' if x == 'Sunday' else 'WEEKDAY')"
   ]
  },
  {
   "cell_type": "code",
   "execution_count": 8,
   "metadata": {},
   "outputs": [],
   "source": [
    "# Create ID for each turnstile\n",
    "mta_data['UNIQUEID'] = mta_data['STATION'] + '_' + mta_data['UNIT'] + '_' + mta_data['C/A'] + '_' + mta_data['SCP']"
   ]
  },
  {
   "cell_type": "code",
   "execution_count": 9,
   "metadata": {},
   "outputs": [],
   "source": [
    "# Create Time of Day\n",
    "mta_data['TIMEOFDAY'] = mta_data['DATETIME'].dt.hour"
   ]
  },
  {
   "cell_type": "code",
   "execution_count": 10,
   "metadata": {},
   "outputs": [],
   "source": [
    "# Daily Counts by Turnstile\n",
    "mta_data['ENTRYDIFF'] = mta_data['ENTRIES'].diff()\n",
    "mta_data['EXITDIFF'] = mta_data['EXITS'].diff()"
   ]
  },
  {
   "cell_type": "code",
   "execution_count": 11,
   "metadata": {},
   "outputs": [],
   "source": [
    "mta_data['DURATION'] = mta_data.DATETIME.diff().apply(lambda x: x.total_seconds()/3600)"
   ]
  },
  {
   "cell_type": "code",
   "execution_count": 12,
   "metadata": {},
   "outputs": [],
   "source": [
    "# Drop Rows without changes\n",
    "mta_data.dropna(subset=['ENTRYDIFF', 'EXITDIFF'], inplace=True)"
   ]
  },
  {
   "cell_type": "code",
   "execution_count": 13,
   "metadata": {},
   "outputs": [],
   "source": [
    "# Drop First Entry Per Turnstile\n",
    "mta_data = mta_data[mta_data.DATETIME >= mta_data.DATE.min() + pd.DateOffset(days=1)]"
   ]
  },
  {
   "cell_type": "code",
   "execution_count": 14,
   "metadata": {},
   "outputs": [],
   "source": [
    "# Normalize floats to int values\n",
    "mta_data['ENTRYDIFF'] = mta_data['ENTRYDIFF'].astype(int)\n",
    "mta_data['EXITDIFF'] = mta_data['EXITDIFF'].astype(int)\n",
    "mta_data['TRAFFIC'] = mta_data['ENTRYDIFF'] + mta_data['EXITDIFF']"
   ]
  },
  {
   "cell_type": "code",
   "execution_count": 15,
   "metadata": {},
   "outputs": [],
   "source": [
    "mta_data['AVG_TRAFFIC'] = mta_data['TRAFFIC'] / mta_data['DURATION']"
   ]
  },
  {
   "cell_type": "code",
   "execution_count": 16,
   "metadata": {},
   "outputs": [],
   "source": [
    "# Drop ENTRYDIFF AND EXITDIFF Rows with extreme values\n",
    "mta_data = mta_data[mta_data.ENTRYDIFF <= 10000]\n",
    "mta_data = mta_data[mta_data.ENTRYDIFF > 0]\n",
    "mta_data = mta_data[mta_data.EXITDIFF <= 10000]\n",
    "mta_data = mta_data[mta_data.EXITDIFF > 0]"
   ]
  },
  {
   "cell_type": "code",
   "execution_count": 17,
   "metadata": {},
   "outputs": [],
   "source": [
    "# Export pickle of processed mta data\n",
    "mta_data.to_pickle('../dump/mta_data_processed')"
   ]
  },
  {
   "cell_type": "code",
   "execution_count": null,
   "metadata": {},
   "outputs": [],
   "source": []
  }
 ]
}